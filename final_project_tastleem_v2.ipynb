{
  "cells": [
    {
      "cell_type": "markdown",
      "metadata": {
        "id": "tIhbZ8-YBC-c"
      },
      "source": [
        "# Ahmed Osama 20105608\n",
        "# Hassan mikawi 20104451\n",
        "# Omar Mohamed anwar 20104420\n"
      ]
    },
    {
      "cell_type": "code",
      "execution_count": 1,
      "metadata": {
        "colab": {
          "base_uri": "https://localhost:8080/"
        },
        "id": "pXBdl7erBFCv",
        "outputId": "a75b24cd-898a-4d10-ddf5-235fb1cb6157"
      },
      "outputs": [
        {
          "name": "stdout",
          "output_type": "stream",
          "text": [
            "/Users/mikawi/Desktop/weapon-detection-ai\n"
          ]
        }
      ],
      "source": [
        "import os\n",
        "HOME = os.getcwd()\n",
        "print(HOME)"
      ]
    },
    {
      "cell_type": "code",
      "execution_count": null,
      "metadata": {
        "colab": {
          "base_uri": "https://localhost:8080/"
        },
        "id": "ZXkXdAvKBKTm",
        "outputId": "03db52f5-22fa-4f54-c30e-7f92da3954ce"
      },
      "outputs": [
        {
          "name": "stdout",
          "output_type": "stream",
          "text": [
            "Ultralytics YOLOv8.2.6 🚀 Python-3.11.7 torch-2.3.0 CPU (Apple M1 Pro)\n",
            "Setup complete ✅ (8 CPUs, 16.0 GB RAM, 443.5/460.4 GB disk)\n"
          ]
        }
      ],
      "source": [
        "!pip install ultralytics\n",
        "!pip install roboflow\n",
        "\n",
        "from ultralytics import YOLO\n",
        "from IPython.display import display, Image\n",
        "\n",
        "from IPython import display\n",
        "display.clear_output()\n",
        "\n",
        "import ultralytics\n",
        "ultralytics.checks()"
      ]
    },
    {
      "cell_type": "code",
      "execution_count": 31,
      "metadata": {
        "colab": {
          "base_uri": "https://localhost:8080/",
          "height": 1000
        },
        "id": "pMdBp5ltBQ-I",
        "outputId": "84af1374-e54d-4a7f-d9d3-9a8afccfb136"
      },
      "outputs": [
        {
          "name": "stdout",
          "output_type": "stream",
          "text": [
            "Requirement already satisfied: roboflow in /Users/mikawi/venv-metal/lib/python3.11/site-packages (1.1.28)\n",
            "Requirement already satisfied: certifi==2023.7.22 in /Users/mikawi/venv-metal/lib/python3.11/site-packages (from roboflow) (2023.7.22)\n",
            "Requirement already satisfied: chardet==4.0.0 in /Users/mikawi/venv-metal/lib/python3.11/site-packages (from roboflow) (4.0.0)\n",
            "Requirement already satisfied: cycler==0.10.0 in /Users/mikawi/venv-metal/lib/python3.11/site-packages (from roboflow) (0.10.0)\n",
            "Requirement already satisfied: idna==2.10 in /Users/mikawi/venv-metal/lib/python3.11/site-packages (from roboflow) (2.10)\n",
            "Requirement already satisfied: kiwisolver>=1.3.1 in /Users/mikawi/venv-metal/lib/python3.11/site-packages (from roboflow) (1.4.5)\n",
            "Requirement already satisfied: matplotlib in /Users/mikawi/venv-metal/lib/python3.11/site-packages (from roboflow) (3.8.4)\n",
            "Requirement already satisfied: numpy>=1.18.5 in /Users/mikawi/venv-metal/lib/python3.11/site-packages (from roboflow) (1.26.4)\n",
            "Requirement already satisfied: opencv-python-headless==4.8.0.74 in /Users/mikawi/venv-metal/lib/python3.11/site-packages (from roboflow) (4.8.0.74)\n",
            "Requirement already satisfied: Pillow>=7.1.2 in /Users/mikawi/venv-metal/lib/python3.11/site-packages (from roboflow) (10.3.0)\n",
            "Requirement already satisfied: python-dateutil in /Users/mikawi/venv-metal/lib/python3.11/site-packages (from roboflow) (2.9.0.post0)\n",
            "Requirement already satisfied: python-dotenv in /Users/mikawi/venv-metal/lib/python3.11/site-packages (from roboflow) (1.0.1)\n",
            "Requirement already satisfied: requests in /Users/mikawi/venv-metal/lib/python3.11/site-packages (from roboflow) (2.31.0)\n",
            "Requirement already satisfied: six in /Users/mikawi/venv-metal/lib/python3.11/site-packages (from roboflow) (1.16.0)\n",
            "Requirement already satisfied: urllib3>=1.26.6 in /Users/mikawi/venv-metal/lib/python3.11/site-packages (from roboflow) (2.2.1)\n",
            "Requirement already satisfied: tqdm>=4.41.0 in /Users/mikawi/venv-metal/lib/python3.11/site-packages (from roboflow) (4.66.4)\n",
            "Requirement already satisfied: PyYAML>=5.3.1 in /Users/mikawi/venv-metal/lib/python3.11/site-packages (from roboflow) (6.0.1)\n",
            "Requirement already satisfied: requests-toolbelt in /Users/mikawi/venv-metal/lib/python3.11/site-packages (from roboflow) (1.0.0)\n",
            "Requirement already satisfied: python-magic in /Users/mikawi/venv-metal/lib/python3.11/site-packages (from roboflow) (0.4.27)\n",
            "Requirement already satisfied: contourpy>=1.0.1 in /Users/mikawi/venv-metal/lib/python3.11/site-packages (from matplotlib->roboflow) (1.2.1)\n",
            "Requirement already satisfied: fonttools>=4.22.0 in /Users/mikawi/venv-metal/lib/python3.11/site-packages (from matplotlib->roboflow) (4.51.0)\n",
            "Requirement already satisfied: packaging>=20.0 in /Users/mikawi/venv-metal/lib/python3.11/site-packages (from matplotlib->roboflow) (24.0)\n",
            "Requirement already satisfied: pyparsing>=2.3.1 in /Users/mikawi/venv-metal/lib/python3.11/site-packages (from matplotlib->roboflow) (3.1.2)\n",
            "Requirement already satisfied: charset-normalizer<4,>=2 in /Users/mikawi/venv-metal/lib/python3.11/site-packages (from requests->roboflow) (3.3.2)\n",
            "loading Roboflow workspace...\n",
            "loading Roboflow project...\n",
            "Dependency ultralytics==8.0.196 is required but found version=8.2.6, to fix: `pip install ultralytics==8.0.196`\n"
          ]
        },
        {
          "name": "stderr",
          "output_type": "stream",
          "text": [
            "Downloading Dataset Version Zip in Weapon-Detection-2-4 to yolov8:: 100%|██████████| 55501/55501 [00:13<00:00, 4170.61it/s]"
          ]
        },
        {
          "name": "stdout",
          "output_type": "stream",
          "text": [
            "\n"
          ]
        },
        {
          "name": "stderr",
          "output_type": "stream",
          "text": [
            "\n",
            "Extracting Dataset Version Zip to Weapon-Detection-2-4 in yolov8:: 100%|██████████| 2762/2762 [00:00<00:00, 8708.18it/s]\n"
          ]
        }
      ],
      "source": [
        "!pip install roboflow\n",
        "\n",
        "from roboflow import Roboflow\n",
        "rf = Roboflow(api_key=\"tKthyaqsmwZmGbtI056Y\")\n",
        "project = rf.workspace(\"ml-x00sj\").project(\"weapon-detection-2-w6pvz\")\n",
        "version = project.version(4)\n",
        "dataset = version.download(\"yolov8\")\n"
      ]
    },
    {
      "cell_type": "code",
      "execution_count": 56,
      "metadata": {
        "colab": {
          "base_uri": "https://localhost:8080/"
        },
        "id": "ahmfqOC6BTI9",
        "outputId": "5d39950f-936f-4747-fc11-49cdc89919e7"
      },
      "outputs": [
        {
          "name": "stdout",
          "output_type": "stream",
          "text": [
            "/Users/mikawi/Desktop/weapon-detection-ai\n",
            "Ultralytics YOLOv8.2.7 🚀 Python-3.11.7 torch-2.3.0 MPS (Apple M1 Pro)\n",
            "\u001b[34m\u001b[1mengine/trainer: \u001b[0mtask=detect, mode=train, model=yolov8s.pt, data=/Users/mikawi/Desktop/weapon-detection-ai/Weapon-Detection-2-4/data.yaml, epochs=35, time=None, patience=100, batch=8, imgsz=640, save=True, save_period=-1, cache=False, device=mps, workers=8, project=None, name=train9, exist_ok=False, pretrained=True, optimizer=auto, verbose=True, seed=0, deterministic=True, single_cls=False, rect=False, cos_lr=False, close_mosaic=10, resume=False, amp=True, fraction=1.0, profile=False, freeze=None, multi_scale=False, overlap_mask=True, mask_ratio=4, dropout=0.0, val=True, split=val, save_json=False, save_hybrid=False, conf=None, iou=0.7, max_det=300, half=False, dnn=False, plots=True, source=None, vid_stride=1, stream_buffer=False, visualize=False, augment=False, agnostic_nms=False, classes=None, retina_masks=False, embed=None, show=False, save_frames=False, save_txt=False, save_conf=False, save_crop=False, show_labels=True, show_conf=True, show_boxes=True, line_width=None, format=torchscript, keras=False, optimize=False, int8=False, dynamic=False, simplify=False, opset=None, workspace=4, nms=False, lr0=0.01, lrf=0.01, momentum=0.937, weight_decay=0.0005, warmup_epochs=3.0, warmup_momentum=0.8, warmup_bias_lr=0.1, box=7.5, cls=0.5, dfl=1.5, pose=12.0, kobj=1.0, label_smoothing=0.0, nbs=64, hsv_h=0.015, hsv_s=0.7, hsv_v=0.4, degrees=0.0, translate=0.1, scale=0.5, shear=0.0, perspective=0.0, flipud=0.0, fliplr=0.5, bgr=0.0, mosaic=1.0, mixup=0.0, copy_paste=0.0, auto_augment=randaugment, erasing=0.4, crop_fraction=1.0, cfg=None, tracker=botsort.yaml, save_dir=runs/detect/train9\n",
            "Overriding model.yaml nc=80 with nc=1\n",
            "\n",
            "                   from  n    params  module                                       arguments                     \n",
            "  0                  -1  1       928  ultralytics.nn.modules.conv.Conv             [3, 32, 3, 2]                 \n",
            "  1                  -1  1     18560  ultralytics.nn.modules.conv.Conv             [32, 64, 3, 2]                \n",
            "  2                  -1  1     29056  ultralytics.nn.modules.block.C2f             [64, 64, 1, True]             \n",
            "  3                  -1  1     73984  ultralytics.nn.modules.conv.Conv             [64, 128, 3, 2]               \n",
            "  4                  -1  2    197632  ultralytics.nn.modules.block.C2f             [128, 128, 2, True]           \n",
            "  5                  -1  1    295424  ultralytics.nn.modules.conv.Conv             [128, 256, 3, 2]              \n",
            "  6                  -1  2    788480  ultralytics.nn.modules.block.C2f             [256, 256, 2, True]           \n",
            "  7                  -1  1   1180672  ultralytics.nn.modules.conv.Conv             [256, 512, 3, 2]              \n",
            "  8                  -1  1   1838080  ultralytics.nn.modules.block.C2f             [512, 512, 1, True]           \n",
            "  9                  -1  1    656896  ultralytics.nn.modules.block.SPPF            [512, 512, 5]                 \n",
            " 10                  -1  1         0  torch.nn.modules.upsampling.Upsample         [None, 2, 'nearest']          \n",
            " 11             [-1, 6]  1         0  ultralytics.nn.modules.conv.Concat           [1]                           \n",
            " 12                  -1  1    591360  ultralytics.nn.modules.block.C2f             [768, 256, 1]                 \n",
            " 13                  -1  1         0  torch.nn.modules.upsampling.Upsample         [None, 2, 'nearest']          \n",
            " 14             [-1, 4]  1         0  ultralytics.nn.modules.conv.Concat           [1]                           \n",
            " 15                  -1  1    148224  ultralytics.nn.modules.block.C2f             [384, 128, 1]                 \n",
            " 16                  -1  1    147712  ultralytics.nn.modules.conv.Conv             [128, 128, 3, 2]              \n",
            " 17            [-1, 12]  1         0  ultralytics.nn.modules.conv.Concat           [1]                           \n",
            " 18                  -1  1    493056  ultralytics.nn.modules.block.C2f             [384, 256, 1]                 \n",
            " 19                  -1  1    590336  ultralytics.nn.modules.conv.Conv             [256, 256, 3, 2]              \n",
            " 20             [-1, 9]  1         0  ultralytics.nn.modules.conv.Concat           [1]                           \n",
            " 21                  -1  1   1969152  ultralytics.nn.modules.block.C2f             [768, 512, 1]                 \n",
            " 22        [15, 18, 21]  1   2116435  ultralytics.nn.modules.head.Detect           [1, [128, 256, 512]]          \n",
            "Model summary: 225 layers, 11135987 parameters, 11135971 gradients, 28.6 GFLOPs\n",
            "\n",
            "Transferred 349/355 items from pretrained weights\n",
            "\u001b[34m\u001b[1mTensorBoard: \u001b[0mStart with 'tensorboard --logdir runs/detect/train9', view at http://localhost:6006/\n",
            "Freezing layer 'model.22.dfl.conv.weight'\n",
            "\u001b[34m\u001b[1mtrain: \u001b[0mScanning /Users/mikawi/Desktop/weapon-detection-ai/Weapon-Detection-2-4/t\u001b[0m\n",
            "\u001b[34m\u001b[1mval: \u001b[0mScanning /Users/mikawi/Desktop/weapon-detection-ai/Weapon-Detection-2-4/val\u001b[0m\n",
            "Plotting labels to runs/detect/train9/labels.jpg... \n",
            "\u001b[34m\u001b[1moptimizer:\u001b[0m 'optimizer=auto' found, ignoring 'lr0=0.01' and 'momentum=0.937' and determining best 'optimizer', 'lr0' and 'momentum' automatically... \n",
            "\u001b[34m\u001b[1moptimizer:\u001b[0m AdamW(lr=0.002, momentum=0.9) with parameter groups 57 weight(decay=0.0), 64 weight(decay=0.0005), 63 bias(decay=0.0)\n",
            "\u001b[34m\u001b[1mTensorBoard: \u001b[0mmodel graph visualization added ✅\n",
            "Image sizes 640 train, 640 val\n",
            "Using 0 dataloader workers\n",
            "Logging results to \u001b[1mruns/detect/train9\u001b[0m\n",
            "Starting training for 35 epochs...\n",
            "\n",
            "      Epoch    GPU_mem   box_loss   cls_loss   dfl_loss  Instances       Size\n",
            "       1/35         0G      1.453      1.854        1.8         24        640: 1\n",
            "                 Class     Images  Instances      Box(P          R      mAP50  mWARNING ⚠️ NMS time limit 2.800s exceeded\n",
            "                 Class     Images  Instances      Box(P          R      mAP50  mWARNING ⚠️ NMS time limit 2.800s exceeded\n",
            "                 Class     Images  Instances      Box(P          R      mAP50  mWARNING ⚠️ NMS time limit 2.800s exceeded\n",
            "                 Class     Images  Instances      Box(P          R      mAP50  mWARNING ⚠️ NMS time limit 2.600s exceeded\n",
            "                 Class     Images  Instances      Box(P          R      mAP50  m\n",
            "                   all         60        111      0.142     0.0901     0.0243    0.00612\n",
            "\n",
            "      Epoch    GPU_mem   box_loss   cls_loss   dfl_loss  Instances       Size\n",
            "       2/35         0G      1.647      1.861      2.001         18        640:  ^C\n"
          ]
        }
      ],
      "source": [
        "%cd {HOME}\n",
        "model = YOLO('yolov8s.pt')\n",
        "!yolo task=detect mode=train model=yolov8s.pt data={HOME}/Weapon-Detection-2-4/data.yaml epochs=35 batch = 8 imgsz=640 plots=True device='mps'\n",
        "# results = model.train(data=\"{HOME}/Weapon-Detection-2-4/data.yaml\", epochs=35, imgsz=640, device='mps', batch = 8, plots=True)"
      ]
    },
    {
      "cell_type": "code",
      "execution_count": null,
      "metadata": {
        "id": "41HFJNNhBYO7"
      },
      "outputs": [],
      "source": [
        "!ls {HOME}/runs/detect/train/"
      ]
    },
    {
      "cell_type": "code",
      "execution_count": null,
      "metadata": {
        "id": "-ySrt-elBY_9"
      },
      "outputs": [],
      "source": [
        "%cd {HOME}\n",
        "Image(filename=f'{HOME}/runs/detect/train4/results.png', width=600)"
      ]
    },
    {
      "cell_type": "code",
      "execution_count": null,
      "metadata": {
        "id": "7bVXFlXCBbbC"
      },
      "outputs": [],
      "source": [
        "%cd {HOME}\n",
        "\n",
        "!yolo task=detect mode=val model={HOME}/runs/detect/train4/weights/best.pt data={dataset.location}/data.yaml"
      ]
    },
    {
      "cell_type": "code",
      "execution_count": null,
      "metadata": {
        "id": "roj1RkcUPckm"
      },
      "outputs": [],
      "source": [
        "%cd {HOME}\n",
        "!yolo task=detect mode=predict model={HOME}/runs/detect/train4/weights/best.pt conf=0.25 source=\"v2.mp4\" save=True"
      ]
    }
  ],
  "metadata": {
    "accelerator": "GPU",
    "colab": {
      "gpuType": "T4",
      "provenance": []
    },
    "kernelspec": {
      "display_name": "Python 3",
      "name": "python3"
    },
    "language_info": {
      "codemirror_mode": {
        "name": "ipython",
        "version": 3
      },
      "file_extension": ".py",
      "mimetype": "text/x-python",
      "name": "python",
      "nbconvert_exporter": "python",
      "pygments_lexer": "ipython3",
      "version": "3.11.7"
    }
  },
  "nbformat": 4,
  "nbformat_minor": 0
}
